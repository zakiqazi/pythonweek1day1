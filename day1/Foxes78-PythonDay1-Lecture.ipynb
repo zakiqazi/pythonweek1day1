{
 "cells": [
  {
   "cell_type": "markdown",
   "metadata": {},
   "source": [
    "# Week 2 - Monday Lesson (variable assignment, loops, lists)"
   ]
  },
  {
   "cell_type": "markdown",
   "metadata": {},
   "source": [
    "## Tasks Today:\n",
    "\n",
    "1) Int & Float assignments <br>\n",
    " &nbsp;&nbsp;&nbsp;&nbsp; a) Assigning int <br>\n",
    " &nbsp;&nbsp;&nbsp;&nbsp; b) Assigning float <br>\n",
    " &nbsp;&nbsp;&nbsp;&nbsp; c) Performing Calculations on ints and floats <br>\n",
    " &nbsp;&nbsp;&nbsp;&nbsp;&nbsp;&nbsp;&nbsp;&nbsp; - Addition <br>\n",
    " &nbsp;&nbsp;&nbsp;&nbsp;&nbsp;&nbsp;&nbsp;&nbsp; - Subtraction <br>\n",
    " &nbsp;&nbsp;&nbsp;&nbsp;&nbsp;&nbsp;&nbsp;&nbsp; - Multiplication <br>\n",
    " &nbsp;&nbsp;&nbsp;&nbsp;&nbsp;&nbsp;&nbsp;&nbsp; - Division <br>\n",
    " &nbsp;&nbsp;&nbsp;&nbsp;&nbsp;&nbsp;&nbsp;&nbsp; - Floor Division <br>\n",
    " &nbsp;&nbsp;&nbsp;&nbsp;&nbsp;&nbsp;&nbsp;&nbsp; - Modulo <br>\n",
    " &nbsp;&nbsp;&nbsp;&nbsp;&nbsp;&nbsp;&nbsp;&nbsp; - Exponential <br>\n",
    "2) String Input-Output <br>\n",
    " &nbsp;&nbsp;&nbsp;&nbsp; a) String Assignment <br>\n",
    " &nbsp;&nbsp;&nbsp;&nbsp; b) print() <br>\n",
    " &nbsp;&nbsp;&nbsp;&nbsp; c) String Concatenation <br>\n",
    " &nbsp;&nbsp;&nbsp;&nbsp; d) Type Conversion <br>\n",
    " &nbsp;&nbsp;&nbsp;&nbsp; e) input() <br>\n",
    " &nbsp;&nbsp;&nbsp;&nbsp; f) format() <br>\n",
    " &nbsp;&nbsp;&nbsp;&nbsp; g) Old Way (python 2) <br>\n",
    "3) <b>In-Class Exercise #1</b> <br>\n",
    "4) If Statements <br>\n",
    " &nbsp;&nbsp;&nbsp;&nbsp; a) 'is' keyword <br>\n",
    " &nbsp;&nbsp;&nbsp;&nbsp; b) 'in' keyword <br>\n",
    " &nbsp;&nbsp;&nbsp;&nbsp; c) 'not in' keyword <br>\n",
    "5) <b>In-Class Exercise #2</b> <br>\n",
    "6) Elif Statements <br>\n",
    "7) Else Statements <br>\n",
    "8) <b>In-Class Exercise #3</b> <br>\n",
    "9) For Loops <br>\n",
    " &nbsp;&nbsp;&nbsp;&nbsp; a) Using 'in' keyword <br>\n",
    " &nbsp;&nbsp;&nbsp;&nbsp; b) Continue Statement <br>\n",
    " &nbsp;&nbsp;&nbsp;&nbsp; c) Break Statement <br>\n",
    " &nbsp;&nbsp;&nbsp;&nbsp; d) Pass Statement <br>\n",
    " &nbsp;&nbsp;&nbsp;&nbsp; e) Double For Loops <br>\n",
    "10) While Loops <br>\n",
    " &nbsp;&nbsp;&nbsp;&nbsp; a) Looping 'While True' <br>\n",
    " &nbsp;&nbsp;&nbsp;&nbsp; b) While and For Loops Used Together <br>\n",
    "11) Built-In Functions <br>\n",
    " &nbsp;&nbsp;&nbsp;&nbsp; a) range() <br>\n",
    " &nbsp;&nbsp;&nbsp;&nbsp; b) len() <br>\n",
    " &nbsp;&nbsp;&nbsp;&nbsp; c) help() <br>\n",
    " &nbsp;&nbsp;&nbsp;&nbsp; d) isinstance() <br>\n",
    " &nbsp;&nbsp;&nbsp;&nbsp; e) abs() <br>\n",
    "12) Try and Except <br>\n",
    "13) Lists <br>\n",
    " &nbsp;&nbsp;&nbsp;&nbsp; a) Declaring Lists <br>\n",
    " &nbsp;&nbsp;&nbsp;&nbsp; b) Indexing a List <br>\n",
    " &nbsp;&nbsp;&nbsp;&nbsp; c) .append() <br>\n",
    " &nbsp;&nbsp;&nbsp;&nbsp; d) .insert() <br>\n",
    " &nbsp;&nbsp;&nbsp;&nbsp; e) .pop() <br>\n",
    " &nbsp;&nbsp;&nbsp;&nbsp; f) .remove() <br>\n",
    " &nbsp;&nbsp;&nbsp;&nbsp; g) del() <br>\n",
    " &nbsp;&nbsp;&nbsp;&nbsp; h) Concatenating Two Lists <br>\n",
    " &nbsp;&nbsp;&nbsp;&nbsp; i) Lists Within Lists <br>\n",
    " &nbsp;&nbsp;&nbsp;&nbsp; j) Looping Through Lists <br>"
   ]
  },
  {
   "cell_type": "markdown",
   "metadata": {},
   "source": [
    "### Int & Float Assignments"
   ]
  },
  {
   "cell_type": "markdown",
   "metadata": {},
   "source": [
    "##### Assigning int"
   ]
  },
  {
   "cell_type": "code",
   "execution_count": 2,
   "metadata": {},
   "outputs": [
    {
     "name": "stdout",
     "output_type": "stream",
     "text": [
      "3 20\n"
     ]
    }
   ],
   "source": [
    "# variable assignment, creating a variable, saving something as a variable, variable redefinition\n",
    "# are all referring to setting a variable name equal to some value\n",
    "# variable names can be anything - x, a_var, lego, coffee all could be variable names\n",
    "# variable names by convention are always first letter lowercase and typically if they are multiple words\n",
    "# those words will be separated by underscores (in python)\n",
    "\n",
    "# syntax clues - special characters we can look for in certain positions that tell us what that line of code is doing\n",
    "# our syntax clue for variable assignment is the single equals sign\n",
    "# variable_name = value\n",
    "\n",
    "x = 3\n",
    "\n",
    "# integers are one of our 4 main datatypes - they are non-decimal numbers\n",
    "y = 20\n",
    "print(x, y)"
   ]
  },
  {
   "cell_type": "markdown",
   "metadata": {},
   "source": [
    "##### Assigning float"
   ]
  },
  {
   "cell_type": "code",
   "execution_count": 4,
   "metadata": {},
   "outputs": [
    {
     "name": "stdout",
     "output_type": "stream",
     "text": [
      "<class 'float'>\n",
      "<class 'int'>\n"
     ]
    }
   ],
   "source": [
    "z = 3.0\n",
    "print(type(z)) # calling the type function on a variable will return a string of that variable's type\n",
    "print(type(x))"
   ]
  },
  {
   "cell_type": "code",
   "execution_count": 5,
   "metadata": {},
   "outputs": [
    {
     "name": "stdout",
     "output_type": "stream",
     "text": [
      "3 <class 'int'>\n",
      "3.0 <class 'float'>\n",
      "3 <class 'str'>\n"
     ]
    }
   ],
   "source": [
    "xint = 3\n",
    "print(xint, type(x))\n",
    "xfl = 3.0\n",
    "print(xfl, type(xfl))\n",
    "xs = '3'\n",
    "print(xs, type(xs))"
   ]
  },
  {
   "cell_type": "markdown",
   "metadata": {},
   "source": [
    "#### Performing Calculations on ints and floats"
   ]
  },
  {
   "cell_type": "markdown",
   "metadata": {},
   "source": [
    "##### Addition"
   ]
  },
  {
   "cell_type": "code",
   "execution_count": 8,
   "metadata": {},
   "outputs": [
    {
     "name": "stdout",
     "output_type": "stream",
     "text": [
      "6.0 <class 'float'>\n"
     ]
    }
   ],
   "source": [
    "# +\n",
    "x + y\n",
    "\n",
    "# we can add floats and integers -> gives a float\n",
    "added = x + z\n",
    "print(added, type(added))"
   ]
  },
  {
   "cell_type": "markdown",
   "metadata": {},
   "source": [
    "##### Subtraction"
   ]
  },
  {
   "cell_type": "code",
   "execution_count": 9,
   "metadata": {},
   "outputs": [
    {
     "data": {
      "text/plain": [
       "-17"
      ]
     },
     "execution_count": 9,
     "metadata": {},
     "output_type": "execute_result"
    }
   ],
   "source": [
    "# -\n",
    "x-y"
   ]
  },
  {
   "cell_type": "markdown",
   "metadata": {},
   "source": [
    "##### Multiplication"
   ]
  },
  {
   "cell_type": "code",
   "execution_count": 28,
   "metadata": {},
   "outputs": [
    {
     "name": "stdout",
     "output_type": "stream",
     "text": [
      "60\n",
      "24.5\n"
     ]
    }
   ],
   "source": [
    "# *\n",
    "print(x*y)\n",
    "print(3.5*7)"
   ]
  },
  {
   "cell_type": "markdown",
   "metadata": {},
   "source": [
    "##### Division"
   ]
  },
  {
   "cell_type": "code",
   "execution_count": 14,
   "metadata": {},
   "outputs": [
    {
     "data": {
      "text/plain": [
       "6.666666666666667"
      ]
     },
     "execution_count": 14,
     "metadata": {},
     "output_type": "execute_result"
    }
   ],
   "source": [
    "# normal division - returns a float\n",
    "# /\n",
    "y/x"
   ]
  },
  {
   "cell_type": "markdown",
   "metadata": {},
   "source": [
    "##### Floor Division"
   ]
  },
  {
   "cell_type": "code",
   "execution_count": 17,
   "metadata": {},
   "outputs": [
    {
     "data": {
      "text/plain": [
       "6"
      ]
     },
     "execution_count": 17,
     "metadata": {},
     "output_type": "execute_result"
    }
   ],
   "source": [
    "# floor division gives the result of normal division rounded down to the nearest integer\n",
    "# returns an integer\n",
    "# //\n",
    "y//x"
   ]
  },
  {
   "cell_type": "markdown",
   "metadata": {},
   "source": [
    "##### Modulo"
   ]
  },
  {
   "cell_type": "code",
   "execution_count": 21,
   "metadata": {},
   "outputs": [
    {
     "data": {
      "text/plain": [
       "2"
      ]
     },
     "execution_count": 21,
     "metadata": {},
     "output_type": "execute_result"
    }
   ],
   "source": [
    "# modulo - remainder division - gives the remainder after floor division\n",
    "# example - 5%2 (five mod two) gives us one - because 5-1 is divisible by 2\n",
    "# y is 20, x is 3 -> 6*3 = 18 and there is 2 left over\n",
    "y%x"
   ]
  },
  {
   "cell_type": "markdown",
   "metadata": {},
   "source": [
    "##### Exponential"
   ]
  },
  {
   "cell_type": "code",
   "execution_count": 25,
   "metadata": {},
   "outputs": [
    {
     "data": {
      "text/plain": [
       "243"
      ]
     },
     "execution_count": 25,
     "metadata": {},
     "output_type": "execute_result"
    }
   ],
   "source": [
    "# you would assume that ^ would be the exponent operator\n",
    "# it is not\n",
    "# we use two asterisks for exponents\n",
    "x**2 # x squared\n",
    "x**5 # x^5"
   ]
  },
  {
   "cell_type": "markdown",
   "metadata": {},
   "source": [
    "### String Input-Output"
   ]
  },
  {
   "cell_type": "markdown",
   "metadata": {},
   "source": [
    "##### String Assignment"
   ]
  },
  {
   "cell_type": "code",
   "execution_count": 34,
   "metadata": {},
   "outputs": [
    {
     "name": "stdout",
     "output_type": "stream",
     "text": [
      "Fennec Fox <class 'str'>\n",
      "Arctic Fox <class 'str'>\n"
     ]
    }
   ],
   "source": [
    "# syntax clue for strings are single or double quotes\n",
    "# a string must always be in quotations\n",
    "# if you have a word or something not in quotations, python will think it is a variable name\n",
    "fox = 'Fennec Fox'\n",
    "fox2 = \"Arctic Fox\"\n",
    "print(fox, type(fox))\n",
    "print(fox2, type(fox2))"
   ]
  },
  {
   "cell_type": "markdown",
   "metadata": {},
   "source": [
    "##### print() <br>\n",
    "<p>Don't forget about end=' '</p>"
   ]
  },
  {
   "cell_type": "code",
   "execution_count": 42,
   "metadata": {},
   "outputs": [
    {
     "name": "stdout",
     "output_type": "stream",
     "text": [
      "Fennec Fox\n",
      "Fennec Fox has data type: <class 'str'>\n",
      "Fennec Fox\n",
      "\n",
      "Arctic Fox!!"
     ]
    }
   ],
   "source": [
    "print(fox) # calling the built-in print function on the variable fox\n",
    "\n",
    "# calling the built-in print function on the variable fox \n",
    "    # and on the result or returned value of calling the built-in type function on the variable fox\n",
    "print(fox, type(fox), sep=' has data type: ') # syntax clue for a function call is function_name(inputs)\n",
    "\n",
    "# by default print always prints onto a new line of output\n",
    "# however, this is actually controlled by an input variable/parameter with a default value\n",
    "# print() has a parameter called end which controls what goes at the end of the print line\n",
    "# by default end='\\n' which creates a new line\n",
    "# so, I can modify the end parameter of my print statement to end my print statement with something else\n",
    "print(fox, end='\\n\\n')\n",
    "print(fox2, end='!!')"
   ]
  },
  {
   "cell_type": "markdown",
   "metadata": {},
   "source": [
    "##### String Concatenation"
   ]
  },
  {
   "cell_type": "code",
   "execution_count": 60,
   "metadata": {},
   "outputs": [
    {
     "name": "stdout",
     "output_type": "stream",
     "text": [
      "line19 Fennec Fox!\n",
      "line20 Fennec Fox\n",
      "line23 Fennec Fox!\n",
      "Arctic Fox\n",
      "Fennec Fox!Arctic Fox\n",
      "22\n",
      "23\n"
     ]
    }
   ],
   "source": [
    "# addition of strings\n",
    "fox + fox2\n",
    "\n",
    "# data types and collections/data structures are all inherently either changeable or not changeable\n",
    "# in computer science we refer to this 'changeability' as a piece of data's mutability\n",
    "# data is either mutable (changeable)\n",
    "# or immutable (cannot be changed)\n",
    "# each of our four main data types: ints, floats, strings, booleans\n",
    "# are in fact immutable -> they cannot directly be changed\n",
    "# when we change a string what we're actually doing is creating a whole new string\n",
    "\n",
    "# adding an exclamation to fox does not directly modify the fox variable's value\n",
    "# it just makes a new string\n",
    "# in practice, if we do want to modify the fox variable's value\n",
    "# we just have to redefine the variable\n",
    "# just doing variable assignment again\n",
    "# variable = variable+transformation\n",
    "fox = 'Fennec Fox'\n",
    "print('line19', fox+'!')\n",
    "print('line20', fox)\n",
    "fox = fox + '!'\n",
    "print('line23', fox)\n",
    "\n",
    "fox2 = 'Arctic Fox'\n",
    "print(fox2)\n",
    "fox2 = fox + fox2 # redefine fox2 to be equal to the string concatenation of the fox variable and the old value of fox2\n",
    "print(fox2)\n",
    "\n",
    "print(x)\n",
    "x = x+1\n",
    "print(x)"
   ]
  },
  {
   "cell_type": "markdown",
   "metadata": {},
   "source": [
    "##### Type Conversion"
   ]
  },
  {
   "cell_type": "code",
   "execution_count": 73,
   "metadata": {},
   "outputs": [
    {
     "name": "stdout",
     "output_type": "stream",
     "text": [
      "3 <class 'int'>\n",
      "3 <class 'str'>\n",
      "3.0 <class 'float'>\n"
     ]
    },
    {
     "ename": "ValueError",
     "evalue": "could not convert string to float: 'three'",
     "output_type": "error",
     "traceback": [
      "\u001b[1;31m---------------------------------------------------------------------------\u001b[0m",
      "\u001b[1;31mValueError\u001b[0m                                Traceback (most recent call last)",
      "\u001b[1;32m<ipython-input-73-2804ee7e457e>\u001b[0m in \u001b[0;36m<module>\u001b[1;34m\u001b[0m\n\u001b[0;32m     16\u001b[0m \u001b[1;31m# we cannot convert alphanumeric strings to integers/floats\u001b[0m\u001b[1;33m\u001b[0m\u001b[1;33m\u001b[0m\u001b[1;33m\u001b[0m\u001b[0m\n\u001b[0;32m     17\u001b[0m \u001b[0mnumber\u001b[0m \u001b[1;33m=\u001b[0m \u001b[1;34m'three'\u001b[0m\u001b[1;33m\u001b[0m\u001b[1;33m\u001b[0m\u001b[0m\n\u001b[1;32m---> 18\u001b[1;33m \u001b[0mnumber\u001b[0m \u001b[1;33m=\u001b[0m \u001b[0mfloat\u001b[0m\u001b[1;33m(\u001b[0m\u001b[0mnumber\u001b[0m\u001b[1;33m)\u001b[0m\u001b[1;33m\u001b[0m\u001b[1;33m\u001b[0m\u001b[0m\n\u001b[0m",
      "\u001b[1;31mValueError\u001b[0m: could not convert string to float: 'three'"
     ]
    }
   ],
   "source": [
    "# when applicable, we can convert between our main data types\n",
    "x = 3 # int\n",
    "# typecasting/type conversion\n",
    "# str(), float(), int() -> when we pass a variable or a value into one of these functions\n",
    "# it will return the same value as the specified datatype if possible\n",
    "x = float(3)\n",
    "#print(x)\n",
    "# you can typecast any numerical values between all three types\n",
    "threestring = int(3.5)\n",
    "print(threestring, type(threestring))\n",
    "threestring = str(threestring)\n",
    "print(threestring, type(threestring))\n",
    "threestring = float(threestring)\n",
    "print(threestring, type(threestring))\n",
    "\n",
    "# we cannot convert alphanumeric strings to integers/floats\n",
    "number = 'three'\n",
    "number = float(number)"
   ]
  },
  {
   "cell_type": "markdown",
   "metadata": {},
   "source": [
    "##### input()"
   ]
  },
  {
   "cell_type": "code",
   "execution_count": 78,
   "metadata": {},
   "outputs": [
    {
     "name": "stdout",
     "output_type": "stream",
     "text": [
      "What is your favorite animal? Penguin\n",
      "Penguin <class 'str'>\n"
     ]
    }
   ],
   "source": [
    "# asks the user for a string input in the terminal\n",
    "animal = input('What is your favorite animal? ')\n",
    "print(animal, type(animal))\n"
   ]
  },
  {
   "cell_type": "markdown",
   "metadata": {},
   "source": [
    "##### format()"
   ]
  },
  {
   "cell_type": "code",
   "execution_count": 79,
   "metadata": {},
   "outputs": [
    {
     "data": {
      "text/plain": [
       "'I purchased an Ocelot from Doctor Algernop Krieger for $3000.'"
      ]
     },
     "execution_count": 79,
     "metadata": {},
     "output_type": "execute_result"
    }
   ],
   "source": [
    "# the most common way to format a string in python 3+ is using an f-string\n",
    "price = 3000\n",
    "animal = 'Ocelot'\n",
    "salesman = 'Doctor Algernop Krieger'\n",
    "\n",
    "sentence = f'I purchased an {animal} from {salesman} for ${price}.'\n",
    "sentence"
   ]
  },
  {
   "cell_type": "code",
   "execution_count": 84,
   "metadata": {},
   "outputs": [
    {
     "data": {
      "text/plain": [
       "'I purchased an Ocelot from Doctor Algernop Krieger for $3000.'"
      ]
     },
     "execution_count": 84,
     "metadata": {},
     "output_type": "execute_result"
    }
   ],
   "source": [
    "# other approach - .format() method\n",
    "other = 'I purchased an {} from {} for ${}.'\n",
    "other = other.format(animal, salesman, price)\n",
    "other\n",
    "\n",
    "# format function? format method? which is it?\n",
    "# function vs. method\n",
    "# every method is a function\n",
    "# not every function is a method\n",
    "# a method is just a function that belongs to a specific class (more on that next week)\n",
    "# a way to recognize a method is the dot notation in its function call\n",
    "# other.format(animal)\n",
    "# variable_of_class_that_the_method_belongs_to.method_name(parameters)"
   ]
  },
  {
   "cell_type": "markdown",
   "metadata": {},
   "source": [
    "# In-Class Exercise 1 <br>\n",
    "<p>Create a format statement that asks for color, year, make, model and prints out the results</p>"
   ]
  },
  {
   "cell_type": "code",
   "execution_count": 90,
   "metadata": {},
   "outputs": [
    {
     "name": "stdout",
     "output_type": "stream",
     "text": [
      "What is your favorite color? green\n",
      "What year was this car made? 1965\n",
      "What kind of car is this? Aston Martin\n",
      "What model of car is this? DB5\n",
      "This is a green 1965 Aston Martin DB5.\n"
     ]
    }
   ],
   "source": [
    "# ask the user for a color, a year, a make, a model\n",
    "# and print out a sentence describing that car\n",
    "# example output: 'This is a 2021 McLaren P1.'\n",
    "\n",
    "# you will need to assign multiple variables\n",
    "# you should use an f-string\n",
    "# you will need input()\n",
    "\n",
    "color = input('What is your favorite color? ')\n",
    "year = input('What year was this car made? ')\n",
    "make = input('What kind of car is this? ')\n",
    "model = input('What model of car is this? ')\n",
    "\n",
    "s = f'This is a {color} {year} {make} {model}.'\n",
    "print(s)"
   ]
  },
  {
   "cell_type": "markdown",
   "metadata": {},
   "source": [
    "### If Statements"
   ]
  },
  {
   "cell_type": "markdown",
   "metadata": {},
   "source": [
    "general structure of any conditional statement\n",
    "<br>\n",
    "<value/variable_name> boolean_operator <value/variable_name/comparison>"
   ]
  },
  {
   "cell_type": "code",
   "execution_count": 104,
   "metadata": {},
   "outputs": [
    {
     "name": "stdout",
     "output_type": "stream",
     "text": [
      "True <class 'bool'>\n",
      "False <class 'bool'>\n",
      "Sam\n"
     ]
    }
   ],
   "source": [
    "# Available operators: Greater(>), Less(<),Equal(==)\n",
    "# Greater or Equal(>=), Less or Equal (<=)\n",
    "\n",
    "# every conditional statement must evaluate down to a boolean (bool) True/False\n",
    "# and in python boolean True/False are always capitalized\n",
    "t = True\n",
    "f = False\n",
    "print(t, type(t))\n",
    "print(f, type(f))\n",
    "\n",
    "# Truth Tree:\n",
    "# T && F = F\n",
    "# T && T = T\n",
    "# T || F = T\n",
    "# F || T = T\n",
    "# F || F = F\n",
    "\n",
    "x = 'fox'\n",
    "z = 'bear'\n",
    "# normal mathmatical operators >, <, >=, <=, ==\n",
    "# they primarily only work as expected with numerical values (except ==)\n",
    "# it is possible to compare strings in terms of their 'value' but it is not comparing what you might expect\n",
    "x >= z # this is a standalone boolean statement\n",
    "\n",
    "a = -5\n",
    "me = 'Sam'\n",
    "# all you're doing with an if statement\n",
    "# is you are providing a conditional statement to tell python whether it should run the code contained within the if block\n",
    "# or if should skip the code contained within the if block\n",
    "if a>1:\n",
    "    print('five is indeed greater than one')\n",
    "    me = 'Sam!'\n",
    "print(me)\n",
    "    \n",
    "# the if statement is a specific keyword creating a conditional structure within our code\n",
    "# if <something that evaluates to T/F>:\n",
    "    #<whatever code you want to run if True was reached>\n",
    "# if my condition is met:\n",
    "    # do this thing\n",
    "    \n",
    "# a colon is our syntax clue that signifies the start of a code block\n",
    "# you will need an indented line the line after a colon"
   ]
  },
  {
   "cell_type": "code",
   "execution_count": 116,
   "metadata": {},
   "outputs": [
    {
     "name": "stdout",
     "output_type": "stream",
     "text": [
      "this is true\n",
      "sam is sam\n",
      "value of both variables is the same\n"
     ]
    }
   ],
   "source": [
    "# == value equality comparison operator\n",
    "me = 'Sam'\n",
    "me2 = 'Sam'\n",
    "\n",
    "if 5 == 5:\n",
    "    print('this is true')\n",
    "if me == 'Sam':\n",
    "    print('sam is sam')\n",
    "if me == me2:\n",
    "    print('value of both variables is the same')"
   ]
  },
  {
   "cell_type": "markdown",
   "metadata": {},
   "source": [
    "##### 'is' keyword"
   ]
  },
  {
   "cell_type": "code",
   "execution_count": 119,
   "metadata": {
    "scrolled": true
   },
   "outputs": [
    {
     "name": "stdout",
     "output_type": "stream",
     "text": [
      "same value\n"
     ]
    }
   ],
   "source": [
    "# if double equals '==' is like asking \"are these both foxes?\"\n",
    "# then 'is' is like asking \"are both these photos of the same fox?\"\n",
    "# is is our reference equality comparison operator\n",
    "me = ['Sam']\n",
    "me2 = ['Sam']\n",
    "if me == me2:\n",
    "    print('same value')\n",
    "if me is me2:\n",
    "    print('not same ref')\n",
    "    \n",
    "# is has a much more specialized use case than ==\n",
    "# specifically for comparing the reference/memory location of two variables\n",
    "# most of the time, you will just want to use == to compare equality of value"
   ]
  },
  {
   "cell_type": "markdown",
   "metadata": {},
   "source": [
    "##### 'in' keyword"
   ]
  },
  {
   "cell_type": "code",
   "execution_count": 130,
   "metadata": {},
   "outputs": [
    {
     "name": "stdout",
     "output_type": "stream",
     "text": [
      "What student should I look for? Devon\n",
      "Devon is not a student in this class.\n"
     ]
    }
   ],
   "source": [
    "# determine whether a value is present in a string or some other collection\n",
    "students = 'Ethan, Zaki, Adrian, Vanessa, Ezekiel, Mohammed, Paul'\n",
    "ask = input('What student should I look for? ')\n",
    "if ask in students: # first we try the condition in the if statement and potentially run the code in the if block\n",
    "    print(f'{ask} is a student in this class.')\n",
    "else: # if we did not run the code in the if block (if statement was false), then we run the code in the else block\n",
    "    print(f'{ask} is not a student in this class.')\n",
    "    \n",
    "# so far we have just looked at using 'in' for strings\n",
    "# however, other uses of 'in' that we will see later in the class include:\n",
    "    # membership in lists\n",
    "    # membership in sets\n",
    "    # membership in tuples\n",
    "    # membership in dictionary keys\n",
    "# commonly reffered to as membership tests"
   ]
  },
  {
   "cell_type": "markdown",
   "metadata": {},
   "source": [
    "##### 'not' keyword"
   ]
  },
  {
   "cell_type": "code",
   "execution_count": 136,
   "metadata": {},
   "outputs": [
    {
     "name": "stdout",
     "output_type": "stream",
     "text": [
      "False\n",
      "What student should I look for? Ezekiel\n",
      "Ezekiel is a student in this class.\n"
     ]
    }
   ],
   "source": [
    "# not is a keyword that can be applied to any boolean statement\n",
    "# it flips the result\n",
    "# not True -> False\n",
    "# not False -> True\n",
    "print(not 5>1)\n",
    "if not 5>1:\n",
    "    print('five is greater than one')\n",
    "\n",
    "# determine whether a value is present in a string or some other collection\n",
    "# same students example with condition flipped using not\n",
    "students = 'Ethan, Zaki, Adrian, Vanessa, Ezekiel, Mohammed, Paul'\n",
    "ask = input('What student should I look for? ')\n",
    "if ask not in students: # first we try the condition in the if statement and potentially run the code in the if block\n",
    "    print(f'{ask} is not a student in this class.')\n",
    "else: # if we did not run the code in the if block (if statement was false), then we run the code in the else block\n",
    "    print(f'{ask} is a student in this class.')"
   ]
  },
  {
   "cell_type": "code",
   "execution_count": 147,
   "metadata": {},
   "outputs": [
    {
     "name": "stdout",
     "output_type": "stream",
     "text": [
      "False\n",
      "True\n"
     ]
    }
   ],
   "source": [
    "# in other languages, such as Javascript, you will see ! used in place of not\n",
    "print(5==1)\n",
    "print(5!=1)\n",
    "\n",
    "#python's only use of ! is in our 'not equals' operator !="
   ]
  },
  {
   "cell_type": "code",
   "execution_count": 142,
   "metadata": {},
   "outputs": [
    {
     "name": "stdout",
     "output_type": "stream",
     "text": [
      "always runs\n",
      "not False is True -> always runs\n",
      "animal is a varaible with a value\n",
      "not nothing is something therefore is True\n",
      "one\n"
     ]
    }
   ],
   "source": [
    "# we have this idea that every conditional statement must evaluate to either True or False\n",
    "# the logical extension is that any True or False value can be used for a conditional statement\n",
    "if True:\n",
    "    print('always runs')\n",
    "if False:\n",
    "    print('never runs, False is False')\n",
    "if not False:\n",
    "    print('not False is True -> always runs')\n",
    "    \n",
    "# implied existence operator\n",
    "# if this thing exists -> its True\n",
    "animal = 'Panda'\n",
    "if animal:\n",
    "    print('animal is a varaible with a value')\n",
    "if not None:\n",
    "    print('not nothing is something therefore is True')\n",
    "\n",
    "# a variable with some value or not no value is inherently True\n",
    "# a variable with a None value or an empty string '' is inherently False\n",
    "\n",
    "# boolean as a datatype True/False is stored in your computers memory as 0 or 1\n",
    "# therefore 0 and 1 have inherently True/False value\n",
    "if 1: # one has inherent value of True\n",
    "    print('one')\n",
    "if 0: # zero has inherent value of False\n",
    "    print('zero')"
   ]
  },
  {
   "cell_type": "markdown",
   "metadata": {},
   "source": [
    "# In-Class Exercise 2 <br>\n",
    "<p>Ask user for input, check to see if the letter 'p' is in the input</p>"
   ]
  },
  {
   "cell_type": "code",
   "execution_count": 157,
   "metadata": {},
   "outputs": [
    {
     "name": "stdout",
     "output_type": "stream",
     "text": [
      "What animal does Sam plan to steal from the Shedd Aquarium on December 2nd? Penguin\n",
      "\n",
      "\n",
      "This is a joke.\n"
     ]
    }
   ],
   "source": [
    "# variable assignment\n",
    "# input()\n",
    "# conditional if statement\n",
    "user_input = input('What animal does Sam plan to steal from the Shedd Aquarium on December 2nd? ')\n",
    "print('\\n')\n",
    "if 'p' in user_input:\n",
    "    print('This is 100% a serious plan and is going to work.')\n",
    "else:\n",
    "    print('This is a joke.')"
   ]
  },
  {
   "cell_type": "markdown",
   "metadata": {},
   "source": [
    "## Using 'and'/'or' with If Statements"
   ]
  },
  {
   "cell_type": "code",
   "execution_count": 166,
   "metadata": {},
   "outputs": [
    {
     "name": "stdout",
     "output_type": "stream",
     "text": [
      "What animal does Sam plan to steal from the Shedd Aquarium on December 2nd? Tiger\n",
      "This is a joke.\n",
      "This will always print regardless of what input I give\n",
      "False\n",
      "True\n"
     ]
    }
   ],
   "source": [
    "# using and and/or or keywords we can combine multiple boolean statements/conditional statements into one if statement\n",
    "# the computer doesn't think of 'p' and 'P' as the same. Therefore, we need to ask two separate boolean statements\n",
    "# is 'p' in the user input or is 'P' in the user input\n",
    "user_input = input('What animal does Sam plan to steal from the Shedd Aquarium on December 2nd? ')\n",
    "\n",
    "if 'p' in user_input and 'P' in user_input:\n",
    "    print('This is 100% a serious plan and is going to work.')\n",
    "else:\n",
    "    print('This is a joke.')\n",
    "    \n",
    "# Truth Tree:\n",
    "# T and F = F\n",
    "# T and T = T\n",
    "# F and F = F\n",
    "# T or F = T\n",
    "# F or T = T\n",
    "# F or F = F\n",
    "# T or T = T\n",
    "\n",
    "# many people are tempted to apply english language logic directly to and/or\n",
    "# computers ain't smart\n",
    "# it don't work\n",
    "# the left and right side of or/and must both be complete conditional statements in their own rights\n",
    "if 'p' or 'P' in user_input: # this will not work\n",
    "    print('This will always print regardless of what input I give')\n",
    "    \n",
    "print('P' in user_input)\n",
    "if 'p': # any value or variable other than None, 0, '', [], {} will be True\n",
    "    print(True)\n"
   ]
  },
  {
   "cell_type": "code",
   "execution_count": 167,
   "metadata": {},
   "outputs": [
    {
     "name": "stdout",
     "output_type": "stream",
     "text": [
      "Wow thats confusing\n"
     ]
    }
   ],
   "source": [
    "# like we saw in the leap_year prework question, as long you eventually get down to a single True or False\n",
    "# you can use as many ands and ors as you want\n",
    "if 3<5 and ('p' and not (5==5 and 300<1)):\n",
    "    print('Wow thats confusing')\n",
    "    \n",
    "# if True and (True and not (True and False))\n",
    "# if True and (True and not False)\n",
    "# if True and (True and True)\n",
    "# if True and True\n",
    "# if True"
   ]
  },
  {
   "cell_type": "markdown",
   "metadata": {},
   "source": [
    "### Elif Statements"
   ]
  },
  {
   "cell_type": "code",
   "execution_count": 175,
   "metadata": {},
   "outputs": [
    {
     "name": "stdout",
     "output_type": "stream",
     "text": [
      "What animal does Sam plan to steal from the Shedd Aquarium on December 2nd? dog\n",
      "User input contained neither p or t or z. This is a joke.\n"
     ]
    }
   ],
   "source": [
    "# elif stands for else if\n",
    "# often with conditional trees we may have multiple scenarios we want to test for\n",
    "# does my user input contain a 'p'?\n",
    "# if not, does it contain a 't'?\n",
    "# if it has neither, what do i do?\n",
    "\n",
    "# elif must follow an if statement\n",
    "# and an elif is an intermediate step between an if statement and an else statment\n",
    "# just like if, and elif must contain a condition (which else does not need)\n",
    "# the code inside of an elif block will only under two circumstances\n",
    "    # 1. the preceeding if block must have not run (aka it eval'd to false)\n",
    "    # 2. the elif block's condition must eval to true\n",
    "    \n",
    "user_input = input('What animal does Sam plan to steal from the Shedd Aquarium on December 2nd? ')\n",
    "if 'p' in user_input:\n",
    "    print('User input contains p. This is 100% a serious plan and is going to work.')\n",
    "elif 't' in user_input:\n",
    "    print('User input contains t. Im gonna steal a penguin.')\n",
    "elif 'z' in user_input:\n",
    "    print('User input contains z. Im gonna steal a penguin.')\n",
    "else:\n",
    "    print('User input contained neither p or t or z. This is a joke.')"
   ]
  },
  {
   "cell_type": "markdown",
   "metadata": {},
   "source": [
    "### Else Statements"
   ]
  },
  {
   "cell_type": "code",
   "execution_count": null,
   "metadata": {},
   "outputs": [],
   "source": [
    "# see above\n",
    "# doesn't need a condition\n",
    "# else statements must follow an if (and/or if + elifs)\n",
    "# the else code block will only run when none of the proceeding if/elifs ran"
   ]
  },
  {
   "cell_type": "markdown",
   "metadata": {},
   "source": [
    "<h3>Nesting Conditionals & Code Blocks</h3>"
   ]
  },
  {
   "cell_type": "code",
   "execution_count": 179,
   "metadata": {},
   "outputs": [
    {
     "name": "stdout",
     "output_type": "stream",
     "text": [
      "first block\n",
      "outside of second block\n"
     ]
    }
   ],
   "source": [
    "if 3>=3: # >= greater than or equal to\n",
    "    print('first block')\n",
    "    actor = 'Dule Hill'\n",
    "    if actor == 'Dule Hill': # double nested\n",
    "        print('second block')\n",
    "        if 'dave' in actor: # triple nested\n",
    "            print('third block')\n",
    "        print('outside of third block')"
   ]
  },
  {
   "cell_type": "code",
   "execution_count": 181,
   "metadata": {},
   "outputs": [
    {
     "name": "stdout",
     "output_type": "stream",
     "text": [
      "What animal does Sam plan to steal from the Shedd Aquarium on December 2nd? platypus\n",
      "User input contains p. This is 100% a serious plan and is going to work.\n",
      "user input contained p but wasnt penguin or parrot\n"
     ]
    }
   ],
   "source": [
    "user_input = input('What animal does Sam plan to steal from the Shedd Aquarium on December 2nd? ')\n",
    "if 'p' in user_input:\n",
    "    print('User input contains p. This is 100% a serious plan and is going to work.')\n",
    "    if 'penguin' == user_input:\n",
    "        print('user input was in fact penguin')\n",
    "    elif 'parrot' == user_input:\n",
    "        print('arr im a pirate')\n",
    "    else:\n",
    "        print('user input contained p but wasnt penguin or parrot')\n",
    "elif 't' in user_input:\n",
    "    print('User input contains t. Im gonna steal a penguin.')\n",
    "    if 'tiger' == user_input:\n",
    "        print('user input was in fact tiger')\n",
    "elif 'z' in user_input:\n",
    "    print('User input contains z. Im gonna steal a penguin.')\n",
    "    if 'zebra' == user_input:\n",
    "        print('user input was in fact zebra')\n",
    "else:\n",
    "    print('User input contained neither p or t or z. This is a joke.')"
   ]
  },
  {
   "cell_type": "markdown",
   "metadata": {},
   "source": [
    "### For Loops"
   ]
  },
  {
   "cell_type": "code",
   "execution_count": null,
   "metadata": {},
   "outputs": [],
   "source": []
  },
  {
   "cell_type": "markdown",
   "metadata": {},
   "source": [
    "##### Using 'in' keyword"
   ]
  },
  {
   "cell_type": "code",
   "execution_count": null,
   "metadata": {},
   "outputs": [],
   "source": [
    "# see above"
   ]
  },
  {
   "cell_type": "markdown",
   "metadata": {},
   "source": [
    "##### Continue Statement"
   ]
  },
  {
   "cell_type": "code",
   "execution_count": null,
   "metadata": {},
   "outputs": [],
   "source": [
    "# will continue to next iteration"
   ]
  },
  {
   "cell_type": "code",
   "execution_count": null,
   "metadata": {},
   "outputs": [],
   "source": []
  },
  {
   "cell_type": "markdown",
   "metadata": {},
   "source": [
    "##### Break Statement"
   ]
  },
  {
   "cell_type": "code",
   "execution_count": null,
   "metadata": {},
   "outputs": [],
   "source": [
    "# will break out of current loop"
   ]
  },
  {
   "cell_type": "code",
   "execution_count": null,
   "metadata": {},
   "outputs": [],
   "source": []
  },
  {
   "cell_type": "markdown",
   "metadata": {},
   "source": [
    "##### Pass Statement"
   ]
  },
  {
   "cell_type": "code",
   "execution_count": null,
   "metadata": {},
   "outputs": [],
   "source": [
    "# mostly used as a placeholder, and will continue on same iteration"
   ]
  },
  {
   "cell_type": "code",
   "execution_count": null,
   "metadata": {},
   "outputs": [],
   "source": []
  },
  {
   "cell_type": "markdown",
   "metadata": {},
   "source": [
    "##### Double For Loops"
   ]
  },
  {
   "cell_type": "code",
   "execution_count": null,
   "metadata": {},
   "outputs": [],
   "source": []
  },
  {
   "cell_type": "markdown",
   "metadata": {},
   "source": [
    "### While Loops"
   ]
  },
  {
   "cell_type": "code",
   "execution_count": null,
   "metadata": {},
   "outputs": [],
   "source": []
  },
  {
   "cell_type": "markdown",
   "metadata": {},
   "source": [
    "##### Looping 'While True'"
   ]
  },
  {
   "cell_type": "code",
   "execution_count": null,
   "metadata": {},
   "outputs": [],
   "source": []
  },
  {
   "cell_type": "markdown",
   "metadata": {},
   "source": [
    "##### While & For Loops Used Together"
   ]
  },
  {
   "cell_type": "code",
   "execution_count": null,
   "metadata": {},
   "outputs": [],
   "source": []
  },
  {
   "cell_type": "markdown",
   "metadata": {},
   "source": [
    "### Built-In Functions"
   ]
  },
  {
   "cell_type": "markdown",
   "metadata": {},
   "source": [
    "##### range()"
   ]
  },
  {
   "cell_type": "code",
   "execution_count": null,
   "metadata": {},
   "outputs": [],
   "source": []
  },
  {
   "cell_type": "markdown",
   "metadata": {},
   "source": [
    "##### len()"
   ]
  },
  {
   "cell_type": "code",
   "execution_count": null,
   "metadata": {},
   "outputs": [],
   "source": []
  },
  {
   "cell_type": "markdown",
   "metadata": {},
   "source": [
    "##### help()"
   ]
  },
  {
   "cell_type": "code",
   "execution_count": null,
   "metadata": {},
   "outputs": [],
   "source": []
  },
  {
   "cell_type": "markdown",
   "metadata": {},
   "source": [
    "##### isinstance()"
   ]
  },
  {
   "cell_type": "code",
   "execution_count": null,
   "metadata": {},
   "outputs": [],
   "source": []
  },
  {
   "cell_type": "markdown",
   "metadata": {},
   "source": [
    "##### abs()"
   ]
  },
  {
   "cell_type": "code",
   "execution_count": null,
   "metadata": {},
   "outputs": [],
   "source": []
  },
  {
   "cell_type": "markdown",
   "metadata": {},
   "source": [
    "### Try and Except"
   ]
  },
  {
   "cell_type": "code",
   "execution_count": null,
   "metadata": {},
   "outputs": [],
   "source": []
  },
  {
   "cell_type": "markdown",
   "metadata": {},
   "source": [
    "### Lists"
   ]
  },
  {
   "cell_type": "markdown",
   "metadata": {},
   "source": [
    "##### Declaring Lists"
   ]
  },
  {
   "cell_type": "code",
   "execution_count": null,
   "metadata": {},
   "outputs": [],
   "source": []
  },
  {
   "cell_type": "markdown",
   "metadata": {},
   "source": [
    "##### Indexing a List"
   ]
  },
  {
   "cell_type": "code",
   "execution_count": null,
   "metadata": {},
   "outputs": [],
   "source": []
  },
  {
   "cell_type": "markdown",
   "metadata": {},
   "source": [
    "##### .append()"
   ]
  },
  {
   "cell_type": "code",
   "execution_count": null,
   "metadata": {},
   "outputs": [],
   "source": []
  },
  {
   "cell_type": "markdown",
   "metadata": {},
   "source": [
    "##### .insert()"
   ]
  },
  {
   "cell_type": "code",
   "execution_count": null,
   "metadata": {},
   "outputs": [],
   "source": []
  },
  {
   "cell_type": "markdown",
   "metadata": {},
   "source": [
    "##### .pop()"
   ]
  },
  {
   "cell_type": "code",
   "execution_count": null,
   "metadata": {},
   "outputs": [],
   "source": []
  },
  {
   "cell_type": "markdown",
   "metadata": {},
   "source": [
    "\n",
    "##### .remove()"
   ]
  },
  {
   "cell_type": "code",
   "execution_count": null,
   "metadata": {},
   "outputs": [],
   "source": []
  },
  {
   "cell_type": "markdown",
   "metadata": {},
   "source": [
    "##### del()"
   ]
  },
  {
   "cell_type": "code",
   "execution_count": null,
   "metadata": {},
   "outputs": [],
   "source": []
  },
  {
   "cell_type": "markdown",
   "metadata": {},
   "source": [
    "##### Concatenating Two Lists"
   ]
  },
  {
   "cell_type": "code",
   "execution_count": null,
   "metadata": {},
   "outputs": [],
   "source": []
  },
  {
   "cell_type": "markdown",
   "metadata": {},
   "source": [
    "##### Lists Within Lists"
   ]
  },
  {
   "cell_type": "code",
   "execution_count": null,
   "metadata": {},
   "outputs": [],
   "source": []
  },
  {
   "cell_type": "markdown",
   "metadata": {},
   "source": [
    "##### Looping Through Lists"
   ]
  },
  {
   "cell_type": "code",
   "execution_count": null,
   "metadata": {},
   "outputs": [],
   "source": []
  },
  {
   "cell_type": "markdown",
   "metadata": {},
   "source": [
    "## Exercise #1 <br>\n",
    "<p>Cube Number Test... Print out all cubed numbers up to the total value 1000. Meaning that if the cubed number is over 1000 break the loop.</p>"
   ]
  },
  {
   "cell_type": "code",
   "execution_count": null,
   "metadata": {},
   "outputs": [],
   "source": []
  },
  {
   "cell_type": "markdown",
   "metadata": {},
   "source": [
    "## Exercise #2 <br>\n",
    "<p>Get first prime numbers up to 100</p>"
   ]
  },
  {
   "cell_type": "code",
   "execution_count": null,
   "metadata": {},
   "outputs": [],
   "source": [
    "# HINT::\n",
    "# An else after an if runs if the if didn’t\n",
    "# An else after a for runs if the for didn’t break\n",
    "\n",
    "\n"
   ]
  },
  {
   "cell_type": "markdown",
   "metadata": {},
   "source": [
    "# Exercise 3 <br>\n",
    "<p>Take in a users input for their age, if they are younger than 18 print kids, if they're 18 to 65 print adults, else print seniors</p>"
   ]
  },
  {
   "cell_type": "code",
   "execution_count": null,
   "metadata": {},
   "outputs": [],
   "source": []
  }
 ],
 "metadata": {
  "kernelspec": {
   "display_name": "Python 3",
   "language": "python",
   "name": "python3"
  },
  "language_info": {
   "codemirror_mode": {
    "name": "ipython",
    "version": 3
   },
   "file_extension": ".py",
   "mimetype": "text/x-python",
   "name": "python",
   "nbconvert_exporter": "python",
   "pygments_lexer": "ipython3",
   "version": "3.8.8"
  }
 },
 "nbformat": 4,
 "nbformat_minor": 2
}
